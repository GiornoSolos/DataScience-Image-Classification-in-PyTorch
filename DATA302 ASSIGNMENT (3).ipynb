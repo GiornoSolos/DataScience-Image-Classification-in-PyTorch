{
 "cells": [
  {
   "cell_type": "code",
   "execution_count": 22,
   "id": "345f29f7",
   "metadata": {},
   "outputs": [],
   "source": [
    "from sklearn.datasets import load_digits\n",
    "import numpy as np"
   ]
  },
  {
   "cell_type": "code",
   "execution_count": 5,
   "id": "5d9e964e",
   "metadata": {},
   "outputs": [],
   "source": [
    "digits = load_digits()"
   ]
  },
  {
   "cell_type": "code",
   "execution_count": 14,
   "id": "f4b0aae1",
   "metadata": {},
   "outputs": [
    {
     "name": "stdout",
     "output_type": "stream",
     "text": [
      "(1797, 64)\n"
     ]
    }
   ],
   "source": [
    "import torch\n",
    "import torch.nn as nn\n",
    "import torch.optim as optim\n",
    "from torch.utils.data import DataLoader, TensorDataset\n",
    "from sklearn.datasets import load_digits\n",
    "from sklearn.model_selection import train_test_split\n",
    "from sklearn.preprocessing import MinMaxScaler\n",
    "\n",
    "print(digits.data.shape)\n",
    "#Standardize image values with MinMaxScaler\n",
    "X, y=digits.data, digits.target\n",
    "scaler = MinMaxScaler()\n",
    "X = scaler.fit_transform(X)"
   ]
  },
  {
   "cell_type": "code",
   "execution_count": 30,
   "id": "ab887605",
   "metadata": {},
   "outputs": [],
   "source": [
    "#Split dataset into training and test sets\n",
    "\n",
    "X_train, X_test, y_train, y_test = train_test_split(X, y, test_size=0.2, random_state=231)\n",
    "\n",
    "#Convert to tensors with corresponding (floats/longs to avoid errors)\n",
    "X_train_tensor = torch.tensor(X_train, dtype=torch.float32)\n",
    "y_train_tensor = torch.tensor(y_train, dtype=torch.long)\n",
    "X_test_tensor = torch.tensor(X_test, dtype=torch.float32)\n",
    "y_test_tensor = torch.tensor(y_test, dtype=torch.long)\n",
    "#Put tensors into tensordatasets so they are compatible with dataloader\n",
    "train_dataset = TensorDataset(X_train_tensor, y_train_tensor)\n",
    "test_dataset = TensorDataset(X_test_tensor, y_test_tensor)\n",
    "\n",
    "# Create DataLoader objects for both training and testing sets\n",
    "train_loader = DataLoader(train_dataset, batch_size=12, shuffle=False)\n",
    "test_loader = DataLoader(test_dataset, batch_size=12, shuffle=False)\n",
    "\n"
   ]
  },
  {
   "cell_type": "code",
   "execution_count": 36,
   "id": "417ec545",
   "metadata": {},
   "outputs": [],
   "source": [
    "##Initialize the neural network with subclass and forward pass function\n",
    "##with two actiation functions\n",
    "class SimpleMLP(nn.Module):\n",
    "    def __init__(self, input_size, hidden_size, output_size):\n",
    "        super(SimpleMLP, self).__init__() #call parent class with super call to initialize __init__\n",
    "        self.hidden = nn.Linear(input_size, hidden_size) ##weights and biases created using nn.Linear function\n",
    "        self.output = nn.Linear(hidden_size, output_size)\n",
    "    \n",
    "    def forward(self, x):\n",
    "        x = torch.relu(self.hidden(x))\n",
    "        x = torch.softmax(self.output(x), dim=1)\n",
    "        return x\n",
    "\n",
    "# Define model parameters\n",
    "input_size = 64  # Each image is 8x8 pixels\n",
    "hidden_size = 128\n",
    "output_size = 10  # There are 10 classes (digits 0-9)\n",
    "\n",
    "# Instantiate the model and throw it into a variable\n",
    "model = SimpleMLP(input_size, hidden_size, output_size)\n"
   ]
  },
  {
   "cell_type": "code",
   "execution_count": 37,
   "id": "e5de12e5",
   "metadata": {},
   "outputs": [],
   "source": [
    "##Here we define our loss function and our optimizer or adapative learning rate\n",
    "lossFunction = nn.CrossEntropyLoss()\n",
    "optimizer = optim.Adam(model.parameters(), lr=0.001)"
   ]
  },
  {
   "cell_type": "code",
   "execution_count": 38,
   "id": "19b3d4e6",
   "metadata": {},
   "outputs": [
    {
     "name": "stdout",
     "output_type": "stream",
     "text": [
      "Epoch [1/15], Loss: 2.1878, Accuracy: 45.72%\n",
      "Epoch [2/15], Loss: 1.8054, Accuracy: 79.19%\n",
      "Epoch [3/15], Loss: 1.6774, Accuracy: 85.04%\n",
      "Epoch [4/15], Loss: 1.6139, Accuracy: 91.51%\n",
      "Epoch [5/15], Loss: 1.5747, Accuracy: 94.02%\n",
      "Epoch [6/15], Loss: 1.5530, Accuracy: 94.92%\n",
      "Epoch [7/15], Loss: 1.5392, Accuracy: 95.96%\n",
      "Epoch [8/15], Loss: 1.5294, Accuracy: 96.73%\n",
      "Epoch [9/15], Loss: 1.5217, Accuracy: 96.80%\n",
      "Epoch [10/15], Loss: 1.5153, Accuracy: 97.15%\n",
      "Epoch [11/15], Loss: 1.5098, Accuracy: 97.49%\n",
      "Epoch [12/15], Loss: 1.5052, Accuracy: 97.91%\n",
      "Epoch [13/15], Loss: 1.5011, Accuracy: 98.19%\n",
      "Epoch [14/15], Loss: 1.4977, Accuracy: 98.54%\n",
      "Epoch [15/15], Loss: 1.4949, Accuracy: 98.61%\n"
     ]
    }
   ],
   "source": [
    "#set number of epochs (times iteration over entire dataset)\n",
    "\n",
    "num_epochs = 15\n",
    "#Train the model ins\n",
    "for epoch in range(num_epochs):\n",
    "    model.train() #Set model to training mode\n",
    "    running_loss = 0.0\n",
    "    correct = 0\n",
    "    total = 0\n",
    "    ##Nested loop for each epoch run the neural network \n",
    "    for inputs, labels in train_loader:\n",
    "        ##Do this to stop the gradient from accumulating by default\n",
    "        ##Reset Gradient to zero every back propagation \n",
    "        optimizer.zero_grad()\n",
    "        outputs = model(inputs) # forward pass Compute predictions with out model\n",
    "        loss = lossFunction(outputs, labels) ## backward pass compute gradients\n",
    "        loss.backward()\n",
    "        optimizer.step()\n",
    "        \n",
    "        running_loss += loss.item()\n",
    "        _, predicted = torch.max(outputs.data, 1)\n",
    "        total += labels.size(0)\n",
    "        correct += (predicted == labels).sum().item()\n",
    "    \n",
    "    epoch_loss = running_loss / len(train_loader)\n",
    "    epoch_accuracy = (correct / total) * 100  # Convert accuracy to percentage\n",
    "    \n",
    "    print(f'Epoch [{epoch + 1}/{num_epochs}], Loss: {epoch_loss:.4f}, Accuracy: {epoch_accuracy:.2f}%')"
   ]
  },
  {
   "cell_type": "code",
   "execution_count": 39,
   "id": "b0038754",
   "metadata": {
    "scrolled": true
   },
   "outputs": [
    {
     "name": "stdout",
     "output_type": "stream",
     "text": [
      "Test Accuracy: 0.9583\n",
      "Example Predictions:\n",
      "Predicted: 0, Actual: 0\n",
      "Predicted: 9, Actual: 9\n",
      "Predicted: 0, Actual: 0\n",
      "Predicted: 7, Actual: 7\n",
      "Predicted: 4, Actual: 4\n"
     ]
    }
   ],
   "source": [
    "# evaluate the model on the test set\n",
    "model.eval() #Set model to evaluation mode\n",
    "with torch.no_grad(): #stop gradient computation\n",
    "    correct = 0\n",
    "    total = 0\n",
    "    for inputs, labels in test_loader:\n",
    "        outputs = model(inputs) #calculate predictions\n",
    "        _, predicted = torch.max(outputs.data, 1) #calculate predicted labels\n",
    "        total += labels.size(0) # increment total and correct count\n",
    "        correct += (predicted == labels).sum().item()\n",
    "    \n",
    "    test_accuracy = correct / total\n",
    "    print(f'Test Accuracy: {test_accuracy:.4f}')\n",
    "\n",
    "# Show five example predictions along with their actual labels\n",
    "example_indices = np.random.choice(len(X_test_tensor), 5, replace=False)\n",
    "print(\"Example Predictions:\")\n",
    "for i in example_indices:\n",
    "    output = model(X_test_tensor[i].unsqueeze(0))\n",
    "    _, predicted = torch.max(output.data, 1)\n",
    "    print(f'Predicted: {predicted.item()}, Actual: {y_test_tensor[i].item()}')"
   ]
  }
 ],
 "metadata": {
  "kernelspec": {
   "display_name": "torch_kernel",
   "language": "python",
   "name": "torch_kernel"
  },
  "language_info": {
   "codemirror_mode": {
    "name": "ipython",
    "version": 3
   },
   "file_extension": ".py",
   "mimetype": "text/x-python",
   "name": "python",
   "nbconvert_exporter": "python",
   "pygments_lexer": "ipython3",
   "version": "3.9.12"
  }
 },
 "nbformat": 4,
 "nbformat_minor": 5
}
